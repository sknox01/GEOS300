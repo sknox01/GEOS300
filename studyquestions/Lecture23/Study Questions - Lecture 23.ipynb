{
 "cells": [
  {
   "cell_type": "code",
   "execution_count": 1,
   "metadata": {},
   "outputs": [],
   "source": [
    "# <center>University of British Columbia, Vancouver</center> \n",
    "## <center>GEOB 300 - Microscale Weather and Climate</center>  \n",
    "### <center>Student Name, Student ID</center> "
   ]
  },
  {
   "cell_type": "markdown",
   "metadata": {},
   "source": [
    "Q1. What are the units of the terms for mechanical production rate and the thermal production rate of turbulence?"
   ]
  },
  {
   "cell_type": "code",
   "execution_count": null,
   "metadata": {},
   "outputs": [],
   "source": []
  },
  {
   "cell_type": "markdown",
   "metadata": {},
   "source": [
    "Q2. Show that the units of the terms for mechanical and thermal production rate match the units of turbulent kinetic energy (TKE) produced per time and unit mass."
   ]
  },
  {
   "cell_type": "code",
   "execution_count": null,
   "metadata": {},
   "outputs": [],
   "source": []
  },
  {
   "cell_type": "markdown",
   "metadata": {},
   "source": [
    "Q3. Given the following terms, calculate the mechanical, thermal, and total production rate of TKE per unit mass: $\\overline{w'T'}$ = 0.30 K m s$^{−1}$, $\\overline{u'w'}$ = 0.52 m$^{2}$ s$^{−2}$, T = 304.1 K and a wind gradient of $\\Delta$u/$\\Delta$z = 0.07 m s$^{−1}$ m$^{−1}$."
   ]
  },
  {
   "cell_type": "code",
   "execution_count": null,
   "metadata": {},
   "outputs": [],
   "source": [
    "# mechanical\n",
    "\n",
    "\n",
    "# Thermal\n",
    "\n",
    "\n",
    "\n",
    "# Total\n"
   ]
  },
  {
   "cell_type": "markdown",
   "metadata": {},
   "source": [
    "Q4. What is the Richardson flux number (Rf) in this situation?"
   ]
  },
  {
   "cell_type": "code",
   "execution_count": null,
   "metadata": {},
   "outputs": [],
   "source": []
  },
  {
   "cell_type": "markdown",
   "metadata": {},
   "source": [
    "Q5. What is the turbulence regime in this situation? What is the dynamic stability (stable, neutral, unstable)?"
   ]
  },
  {
   "cell_type": "code",
   "execution_count": null,
   "metadata": {},
   "outputs": [],
   "source": []
  },
  {
   "cell_type": "markdown",
   "metadata": {},
   "source": [
    "Q6. Calculate the height above ground in the surface layer, where the mechanical production rate and the thermal production rate are equal."
   ]
  },
  {
   "cell_type": "code",
   "execution_count": null,
   "metadata": {},
   "outputs": [],
   "source": []
  },
  {
   "cell_type": "markdown",
   "metadata": {},
   "source": [
    "Q7. What is the value of the dynamic stability parameter $\\zeta$ in this situation at a height z = 10 m?"
   ]
  },
  {
   "cell_type": "code",
   "execution_count": null,
   "metadata": {},
   "outputs": [],
   "source": []
  },
  {
   "cell_type": "markdown",
   "metadata": {},
   "source": [
    "Q8. What is the dynamic stability (stable, neutral, unstable) determined through $\\zeta$ and does this match the dynamic stability determined through Rf?"
   ]
  },
  {
   "cell_type": "code",
   "execution_count": null,
   "metadata": {},
   "outputs": [],
   "source": []
  }
 ],
 "metadata": {
  "kernelspec": {
   "display_name": "R",
   "language": "R",
   "name": "ir"
  },
  "language_info": {
   "codemirror_mode": "r",
   "file_extension": ".r",
   "mimetype": "text/x-r-source",
   "name": "R",
   "pygments_lexer": "r",
   "version": "3.6.2"
  }
 },
 "nbformat": 4,
 "nbformat_minor": 4
}
