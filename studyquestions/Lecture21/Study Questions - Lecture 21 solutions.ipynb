{
 "cells": [
  {
   "cell_type": "code",
   "execution_count": null,
   "metadata": {},
   "outputs": [],
   "source": [
    "# <center>University of British Columbia, Vancouver</center> \n",
    "## <center>GEOB 300 - Microscale Weather and Climate</center>  \n",
    "### <center>Student Name, Student ID</center> "
   ]
  },
  {
   "cell_type": "code",
   "execution_count": null,
   "metadata": {},
   "outputs": [],
   "source": [
    "Q1. At a tower you measure the following average air temperatures: T1 = 15 $^{\\circ}$C and T2 = 10 $^{\\circ}$C, at heights z1 = 1 m and z2 = 11 m. Calculate\n",
    "$\\Delta\\overline{T}$/$\\Delta$z and $\\Delta\\overline{\\theta}$/$\\Delta$z."
   ]
  },
  {
   "cell_type": "code",
   "execution_count": null,
   "metadata": {},
   "outputs": [],
   "source": [
    "# Temperature gradient\n",
    "T1 <- 15\n",
    "T2 <- 10\n",
    "z1 <- 1\n",
    "z2 <- 11\n",
    "dtdz1 <- (T2-T1)/(z2-z1)\n",
    "\n",
    "# Display output\n",
    "cat(\"The temperature gradient is: \", round(dtdz1,3), \"K/m\", \"\\n\")\n",
    "\n",
    "# Potential temperature gradient\n",
    "DALR <- 0.01\n",
    "\n",
    "dthetadz1 <- ((T2+DALR*(z2-z1))-T1)/(z2-z1)\n",
    "\n",
    "# Display output\n",
    "cat(\"The potential temperature gradient is: \", round(dthetadz1,3), \"K/m\", \"\\n\")"
   ]
  },
  {
   "cell_type": "markdown",
   "metadata": {},
   "source": [
    "Q2. Redo the calculation for air temperatures T1 = 10.0 $^{\\circ}$C and T2 = 11.0 $^{\\circ}$C, at heights z1 = 1 m and z2 = 6 m."
   ]
  },
  {
   "cell_type": "code",
   "execution_count": null,
   "metadata": {},
   "outputs": [],
   "source": [
    "# Temperature gradient\n",
    "T1 <- 10\n",
    "T2 <- 11\n",
    "z1 <- 1\n",
    "z2 <- 6\n",
    "dtdz2 <- (T2-T1)/(z2-z1)\n",
    "\n",
    "# Display output\n",
    "cat(\"The temperature gradient is: \", round(dtdz2,3), \"K/m\", \"\\n\")\n",
    "\n",
    "# Potential temperature gradient\n",
    "DALR <- 0.01\n",
    "\n",
    "dthetadz2 <- ((T2+DALR*(z2-z1))-T1)/(z2-z1)\n",
    "\n",
    "# Display output\n",
    "cat(\"The potential temperature gradient is: \", round(dthetadz2,3), \"K/m\", \"\\n\")"
   ]
  },
  {
   "cell_type": "markdown",
   "metadata": {},
   "source": [
    "Q3. For question 1 and 2 calculate Q$_{H}$ using the K-Theory. Given is the eddy diffusivity K$_{H}$ = 0.2 m$^{2}$ s$^{-1}$."
   ]
  },
  {
   "cell_type": "code",
   "execution_count": null,
   "metadata": {},
   "outputs": [],
   "source": [
    "rhoa <- 1.230\n",
    "cp <- 1010\n",
    "Ca <- rhoa*cp\n",
    "Kh <- 0.2\n",
    "\n",
    "Qh1 <- -Ca*Kh*dthetadz1\n",
    "Qh2 <- -Ca*Kh*dthetadz2\n",
    "\n",
    "# Display output\n",
    "cat(\"Qh from question 1 is: \", round(Qh1,1), \"W/m2\", \"\\n\")\n",
    "cat(\"Qh from question 2 is: \", round(Qh2,1), \"W/m2\", \"\\n\")"
   ]
  },
  {
   "cell_type": "markdown",
   "metadata": {},
   "source": [
    "Q4. At the tower you measure a carbon dioxide concentration of $\\overline{\\rho_{c1}}$ = 14 mmol m$^{-3}$ and $\\overline{\\rho_{c2}}$ = 15 mmol m$^{-3}$, at heights z1 = 1 m and z2 = 11 m. Calculate $\\Delta$$\\overline{\\rho_{c}}$/$\\Delta$z and the mass flux density of carbon dioxide using the K-Theory and the Reynolds analogy."
   ]
  },
  {
   "cell_type": "code",
   "execution_count": null,
   "metadata": {},
   "outputs": [],
   "source": [
    "rhoc1 <- 14\n",
    "rhoc2 <- 15\n",
    "z1 = 1\n",
    "z2 = 11\n",
    "\n",
    "dcdz <- (rhoc2 - rhoc1)/(z2-z1)\n",
    "\n",
    "cat(\"The CO2 gradient is: \", round(dcdz,3), \"mmol m-2\", \"\\n\")\n",
    "\n",
    "molar_mass <- 44\n",
    "Fc <- -Kh*dcdz*molar_mass\n",
    "\n",
    "cat(\"The mass flux density of carbon dioxide is: \", round(Fc,3), \"ug m-2 s-1\", \"\\n\")"
   ]
  },
  {
   "cell_type": "code",
   "execution_count": null,
   "metadata": {},
   "outputs": [],
   "source": []
  },
  {
   "cell_type": "markdown",
   "metadata": {},
   "source": [
    "Q5. At the tower you measure also measure absolute humidity of $\\overline{\\rho_{v1}}$ =\n",
    "5 g m$^{-3}$ and $\\overline{\\rho_{v2}}$ = 4 g m$^{-3}$, at the same heights z1 = 1 m and z2 = 11 m. Calculate $\\Delta$$\\overline{\\rho_{v}}$/$\\Delta$z and the mass \n",
    "flux density of water vapour E (in g m$^{-2}$ s$^{-1}$) using the K-Theory and Reynolds analogy."
   ]
  },
  {
   "cell_type": "code",
   "execution_count": null,
   "metadata": {},
   "outputs": [],
   "source": [
    "rhov1 <- 5\n",
    "rhov2 <- 4\n",
    "drhovdz <- (rhov2-rhov1)/(z2-z1)\n",
    "\n",
    "cat(\"The water vapor gradient is: \", round(drhovdz,3), \"g m-2\", \"\\n\")\n",
    "\n",
    "E <- -Kh*(rhov2-rhov1)/(z2-z1)\n",
    "\n",
    "cat(\"The the mass flux density of water vapour is: \", round(E,3), \"g m-2 s-1\", \"\\n\")"
   ]
  },
  {
   "cell_type": "markdown",
   "metadata": {},
   "source": [
    "Q6. Calculate Q$_{E}$ from question 5."
   ]
  },
  {
   "cell_type": "code",
   "execution_count": null,
   "metadata": {},
   "outputs": [],
   "source": [
    "Lv <- 2.476*10^6\n",
    "Qe <- Lv*E/1000\n",
    "\n",
    "cat(\"Qe is: \", round(Qe,1), \"W/m2\", \"\\n\")"
   ]
  }
 ],
 "metadata": {
  "kernelspec": {
   "display_name": "R",
   "language": "R",
   "name": "ir"
  },
  "language_info": {
   "codemirror_mode": "r",
   "file_extension": ".r",
   "mimetype": "text/x-r-source",
   "name": "R",
   "pygments_lexer": "r",
   "version": "4.2.2"
  }
 },
 "nbformat": 4,
 "nbformat_minor": 4
}
