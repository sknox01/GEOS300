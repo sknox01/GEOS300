{
 "cells": [
  {
   "cell_type": "code",
   "execution_count": null,
   "metadata": {},
   "outputs": [],
   "source": [
    "# <center>University of British Columbia, Vancouver</center> \n",
    "## <center>GEOB 300 - Microscale Weather and Climate</center>  \n",
    "### <center>Student Name, Student ID</center> "
   ]
  },
  {
   "cell_type": "markdown",
   "metadata": {},
   "source": [
    "Q1. At a tower you measure the following average air temperatures: T1 = 15 $^{\\circ}$C and T2 = 10 $^{\\circ}$C, at heights z1 = 1 m and z2 = 11 m. Calculate\n",
    "$\\Delta\\overline{T}$/$\\Delta$z and $\\Delta\\overline{\\theta}$/$\\Delta$z."
   ]
  },
  {
   "cell_type": "code",
   "execution_count": null,
   "metadata": {},
   "outputs": [],
   "source": []
  },
  {
   "cell_type": "markdown",
   "metadata": {},
   "source": [
    "Q2. Redo the calculation for air temperatures T1 = 10.0 $^{\\circ}$C and T2 = 11.0 $^{\\circ}$C, at heights z1 = 1 m and z2 = 6 m."
   ]
  },
  {
   "cell_type": "code",
   "execution_count": null,
   "metadata": {},
   "outputs": [],
   "source": []
  },
  {
   "cell_type": "markdown",
   "metadata": {},
   "source": [
    "Q3. For question 1 and 2 calculate Q$_{H}$ using the K-Theory. Given is the eddy diffusivity K$_{H}$ = 0.2 m$^{2}$ s$^{-1}$."
   ]
  },
  {
   "cell_type": "code",
   "execution_count": null,
   "metadata": {},
   "outputs": [],
   "source": []
  },
  {
   "cell_type": "markdown",
   "metadata": {},
   "source": [
    "Q4. At the tower you measure a carbon dioxide concentration of $\\overline{\\rho_{c1}}$ = 14 mmol m$^{-3}$ and $\\overline{\\rho_{c2}}$ = 15 mmol m$^{-3}$, at heights z1 = 1 m and z2 = 11 m. Calculate $\\Delta$$\\overline{\\rho_{c}}$/$\\Delta$z and the mass flux density of carbon dioxide using the K-Theory and the Reynolds analogy."
   ]
  },
  {
   "cell_type": "code",
   "execution_count": null,
   "metadata": {},
   "outputs": [],
   "source": []
  },
  {
   "cell_type": "markdown",
   "metadata": {},
   "source": [
    "Q5. At the tower you measure also measure absolute humidity of $\\overline{\\rho_{v1}}$ =\n",
    "5 g m$^{-3}$ and $\\overline{\\rho_{v2}}$ = 4 g m$^{-3}$, at the same heights z1 = 1 m and z2 = 11 m. Calculate $\\Delta$$\\overline{\\rho_{v}}$/$\\Delta$z and the mass \n",
    "flux density of water vapour E (in g m$^{-2}$ s$^{-1}$) using the K-Theory and Reynolds analogy."
   ]
  },
  {
   "cell_type": "code",
   "execution_count": null,
   "metadata": {},
   "outputs": [],
   "source": []
  },
  {
   "cell_type": "markdown",
   "metadata": {},
   "source": [
    "Q6. Calculate Q$_{E}$ from question 5."
   ]
  },
  {
   "cell_type": "code",
   "execution_count": null,
   "metadata": {},
   "outputs": [],
   "source": []
  }
 ],
 "metadata": {
  "kernelspec": {
   "display_name": "R",
   "language": "R",
   "name": "ir"
  },
  "language_info": {
   "codemirror_mode": "r",
   "file_extension": ".r",
   "mimetype": "text/x-r-source",
   "name": "R",
   "pygments_lexer": "r",
   "version": "4.2.2"
  }
 },
 "nbformat": 4,
 "nbformat_minor": 4
}
