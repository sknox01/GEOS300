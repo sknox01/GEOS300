{
 "cells": [
  {
   "cell_type": "code",
   "execution_count": 1,
   "metadata": {},
   "outputs": [],
   "source": [
    "# <center>University of British Columbia, Vancouver</center> \n",
    "## <center>GEOB 300 - Microscale Weather and Climate</center>  \n",
    "### <center>Student Name, Student ID</center> "
   ]
  },
  {
   "cell_type": "markdown",
   "metadata": {},
   "source": [
    "Q1. The specific heat of water is cp = 4.18 kJ kg−1 K−1. Calculate the heat capacity C of water."
   ]
  },
  {
   "cell_type": "code",
   "execution_count": 2,
   "metadata": {},
   "outputs": [
    {
     "data": {
      "text/html": [
       "41800000"
      ],
      "text/latex": [
       "41800000"
      ],
      "text/markdown": [
       "41800000"
      ],
      "text/plain": [
       "[1] 41800000"
      ]
     },
     "metadata": {},
     "output_type": "display_data"
    }
   ],
   "source": [
    "# Density of water\n",
    "rho_w <- 1*10^3 \n",
    "\n",
    "cp <- 4.18*10^4\n",
    "\n",
    "C <- rho_w*cp\n",
    "C"
   ]
  },
  {
   "cell_type": "markdown",
   "metadata": {},
   "source": [
    "Q2. Calculate the heat capacity C of a dry mineral soil with a porosity of 55%. Use values from the table in Lecture 10, Slide 8."
   ]
  },
  {
   "cell_type": "code",
   "execution_count": 3,
   "metadata": {},
   "outputs": [
    {
     "data": {
      "text/html": [
       "0.945"
      ],
      "text/latex": [
       "0.945"
      ],
      "text/markdown": [
       "0.945"
      ],
      "text/plain": [
       "[1] 0.945"
      ]
     },
     "metadata": {},
     "output_type": "display_data"
    }
   ],
   "source": [
    "theta_a <- 0.55\n",
    "theta_m <- 1-theta_a\n",
    "Cm <- 2.1\n",
    "\n",
    "C <- Cm*theta_m\n",
    "C"
   ]
  },
  {
   "cell_type": "markdown",
   "metadata": {},
   "source": [
    "Q3. Calculate the heat capacity C for the same soil if it is completely saturated."
   ]
  },
  {
   "cell_type": "code",
   "execution_count": 4,
   "metadata": {},
   "outputs": [
    {
     "data": {
      "text/html": [
       "3.244"
      ],
      "text/latex": [
       "3.244"
      ],
      "text/markdown": [
       "3.244"
      ],
      "text/plain": [
       "[1] 3.244"
      ]
     },
     "metadata": {},
     "output_type": "display_data"
    }
   ],
   "source": [
    "theta_w <- 0.55\n",
    "Cw <- 4.18\n",
    "\n",
    "C <- Cm*theta_m+Cw*theta_w\n",
    "C"
   ]
  },
  {
   "cell_type": "markdown",
   "metadata": {},
   "source": [
    "Q4. Calculate the heat capacity C of a partly saturated soil with P = 50%, θa = 0.30 and an organic to mineral ratio of 1.5. Again, use the table in Lecture 10, Slide 8."
   ]
  },
  {
   "cell_type": "code",
   "execution_count": 5,
   "metadata": {},
   "outputs": [
    {
     "data": {
      "text/html": [
       "2.006"
      ],
      "text/latex": [
       "2.006"
      ],
      "text/markdown": [
       "2.006"
      ],
      "text/plain": [
       "[1] 2.006"
      ]
     },
     "metadata": {},
     "output_type": "display_data"
    }
   ],
   "source": [
    "theta_w <- 0.2\n",
    "theta_m <- 0.2\n",
    "theta_o <- 0.3\n",
    "Co <- 2.5\n",
    "\n",
    "C <- theta_w*Cw+theta_m*Cm+theta_o*Co\n",
    "C"
   ]
  },
  {
   "cell_type": "code",
   "execution_count": null,
   "metadata": {},
   "outputs": [],
   "source": []
  },
  {
   "cell_type": "markdown",
   "metadata": {},
   "source": [
    "Q5. If you increase the soil volumetric water content θw of any soil by 0.1, how does the heat capacity C of the soil change?"
   ]
  },
  {
   "cell_type": "code",
   "execution_count": 6,
   "metadata": {},
   "outputs": [
    {
     "data": {
      "text/html": [
       "0.418"
      ],
      "text/latex": [
       "0.418"
      ],
      "text/markdown": [
       "0.418"
      ],
      "text/plain": [
       "[1] 0.418"
      ]
     },
     "metadata": {},
     "output_type": "display_data"
    }
   ],
   "source": [
    "theta_w <- 0.2+0.1\n",
    "C2 <- theta_w*Cw+theta_m*Cm+theta_o*Co\n",
    "deltaC <- C2-C\n",
    "deltaC"
   ]
  },
  {
   "cell_type": "markdown",
   "metadata": {},
   "source": [
    "Q6. Assume we have a soil with C = 2MJm−3 K−1 and we measure a soil heat flux density QG of +100 W m−2 all going to the first 10 cm of the soil, how fast would the layer 0-10 cm heat up?"
   ]
  },
  {
   "cell_type": "code",
   "execution_count": 7,
   "metadata": {},
   "outputs": [
    {
     "data": {
      "text/html": [
       "5e-04"
      ],
      "text/latex": [
       "5e-04"
      ],
      "text/markdown": [
       "5e-04"
      ],
      "text/plain": [
       "[1] 5e-04"
      ]
     },
     "metadata": {},
     "output_type": "display_data"
    }
   ],
   "source": [
    "C <- 2*10^6\n",
    "deltaG <- 100\n",
    "deltaZ <- 0.1\n",
    "\n",
    "rate <- 1/C*deltaG/deltaZ\n",
    "rate"
   ]
  },
  {
   "cell_type": "markdown",
   "metadata": {},
   "source": [
    "Q7. Write Fourier’s law and explain it briefly."
   ]
  },
  {
   "cell_type": "code",
   "execution_count": null,
   "metadata": {},
   "outputs": [],
   "source": []
  },
  {
   "cell_type": "markdown",
   "metadata": {},
   "source": [
    "Q8. In a dry and uniform mineral soil with a porosity of 55%, we measure soil temperatures T1 at 2cm and T2 at 6cm. T1 =20◦C,T2 = 18.5◦C. Calculate the soil heat flux density QG assuming a thermal conductivity of k = 0.27 W m−1 K−1."
   ]
  },
  {
   "cell_type": "code",
   "execution_count": 8,
   "metadata": {},
   "outputs": [
    {
     "data": {
      "text/html": [
       "10.125"
      ],
      "text/latex": [
       "10.125"
      ],
      "text/markdown": [
       "10.125"
      ],
      "text/plain": [
       "[1] 10.125"
      ]
     },
     "metadata": {},
     "output_type": "display_data"
    }
   ],
   "source": [
    "k <- 0.27\n",
    "deltaT <- 18.5-20\n",
    "deltaZ <- 0.06-0.02\n",
    "G <- -k*deltaT/deltaZ\n",
    "G"
   ]
  },
  {
   "cell_type": "markdown",
   "metadata": {},
   "source": [
    "Q9. At 5 cm depth we measure a soil heat flux density QG = 20 W m−2 and simultaneously a temperature gradient of -0.5 Kcm−1. Calculate the thermal conductivity k."
   ]
  },
  {
   "cell_type": "code",
   "execution_count": 9,
   "metadata": {},
   "outputs": [
    {
     "data": {
      "text/html": [
       "0.4"
      ],
      "text/latex": [
       "0.4"
      ],
      "text/markdown": [
       "0.4"
      ],
      "text/plain": [
       "[1] 0.4"
      ]
     },
     "metadata": {},
     "output_type": "display_data"
    }
   ],
   "source": [
    "deltaZ <- 0.05\n",
    "G <- 20\n",
    "grad <- -0.5\n",
    "k <- G*1/grad/100*-1\n",
    "k"
   ]
  },
  {
   "cell_type": "markdown",
   "metadata": {},
   "source": [
    "Q10. For a soil with a specific heat cp = 1.8 kJ kg−1 K−1, a density ρ = 1.4 Mg m−3, and a thermal conductivity k = 0.4 W m−1 K−1, calculate the thermal diffusivity κ."
   ]
  },
  {
   "cell_type": "code",
   "execution_count": 10,
   "metadata": {},
   "outputs": [
    {
     "data": {
      "text/html": [
       "1.58730158730159e-07"
      ],
      "text/latex": [
       "1.58730158730159e-07"
      ],
      "text/markdown": [
       "1.58730158730159e-07"
      ],
      "text/plain": [
       "[1] 1.587302e-07"
      ]
     },
     "metadata": {},
     "output_type": "display_data"
    }
   ],
   "source": [
    "k <- 0.4\n",
    "cp <- 1.8*10^3\n",
    "rho <- 1.4*10^3\n",
    "\n",
    "kappa <- k/(cp*rho)\n",
    "kappa"
   ]
  },
  {
   "cell_type": "markdown",
   "metadata": {},
   "source": [
    "Q11. Calculate the thermal admittance μ for the same soil."
   ]
  },
  {
   "cell_type": "code",
   "execution_count": 11,
   "metadata": {},
   "outputs": [
    {
     "data": {
      "text/html": [
       "0.000398409536444798"
      ],
      "text/latex": [
       "0.000398409536444798"
      ],
      "text/markdown": [
       "0.000398409536444798"
      ],
      "text/plain": [
       "[1] 0.0003984095"
      ]
     },
     "metadata": {},
     "output_type": "display_data"
    }
   ],
   "source": [
    "mu <- sqrt(k/(cp*rho))\n",
    "mu"
   ]
  },
  {
   "cell_type": "markdown",
   "metadata": {},
   "source": [
    "Q12. Assume we know a soil’s dry mass fraction of organic material (fo =25%), and its bulk density (ρs = 1.4 Mg m−3). What is the mass of organic (Mo) and mineral material (Mm) contained in one cubic metre of this soil?"
   ]
  },
  {
   "cell_type": "code",
   "execution_count": 12,
   "metadata": {},
   "outputs": [
    {
     "data": {
      "text/html": [
       "0.35"
      ],
      "text/latex": [
       "0.35"
      ],
      "text/markdown": [
       "0.35"
      ],
      "text/plain": [
       "[1] 0.35"
      ]
     },
     "metadata": {},
     "output_type": "display_data"
    },
    {
     "data": {
      "text/html": [
       "1.05"
      ],
      "text/latex": [
       "1.05"
      ],
      "text/markdown": [
       "1.05"
      ],
      "text/plain": [
       "[1] 1.05"
      ]
     },
     "metadata": {},
     "output_type": "display_data"
    }
   ],
   "source": [
    "f <- 0.25\n",
    "Mt <- 1.4\n",
    "Mo <- Mt*f\n",
    "Mo\n",
    "\n",
    "Mm <- Mt-Mo\n",
    "Mm"
   ]
  },
  {
   "cell_type": "markdown",
   "metadata": {},
   "source": [
    "Q13. Using the values of specific heat for organic (co) and mineral (cm) given in the table of Lecture 10, slide 8, calculate the composite heat capacity (Cs) for the dry soil in Question 12."
   ]
  },
  {
   "cell_type": "code",
   "execution_count": 13,
   "metadata": {},
   "outputs": [
    {
     "data": {
      "text/html": [
       "1.505"
      ],
      "text/latex": [
       "1.505"
      ],
      "text/markdown": [
       "1.505"
      ],
      "text/plain": [
       "[1] 1.505"
      ]
     },
     "metadata": {},
     "output_type": "display_data"
    }
   ],
   "source": [
    "co <- 1.9\n",
    "cm <- 0.8\n",
    "C <- Mo*co+Mm*cm\n",
    "C"
   ]
  }
 ],
 "metadata": {
  "kernelspec": {
   "display_name": "R",
   "language": "R",
   "name": "ir"
  },
  "language_info": {
   "codemirror_mode": "r",
   "file_extension": ".r",
   "mimetype": "text/x-r-source",
   "name": "R",
   "pygments_lexer": "r",
   "version": "4.2.2"
  }
 },
 "nbformat": 4,
 "nbformat_minor": 4
}
