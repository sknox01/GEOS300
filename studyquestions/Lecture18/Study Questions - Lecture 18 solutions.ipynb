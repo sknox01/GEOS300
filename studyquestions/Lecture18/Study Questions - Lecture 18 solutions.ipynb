{
 "cells": [
  {
   "cell_type": "code",
   "execution_count": 1,
   "metadata": {},
   "outputs": [],
   "source": [
    "# <center>University of British Columbia, Vancouver</center> \n",
    "## <center>GEOB 300 - Microscale Weather and Climate</center>  \n",
    "### <center>Student Name, Student ID</center> "
   ]
  },
  {
   "cell_type": "markdown",
   "metadata": {},
   "source": [
    "Q1. During an hour, you measure air temperature T every 10 minutes according the table below. Calculate the terms below:\n",
    "\n",
    "| Minutes | T (Celsius) | \n",
    "| :------ |------------:| \n",
    "| 10      | 12.6        |\n",
    "|20       | 11.2        |\n",
    "|30       | 11.9        |\n",
    "|40       | 13.1        |\n",
    "|50       | 12.0        |\n",
    "|60       | 11.8        |"
   ]
  },
  {
   "cell_type": "code",
   "execution_count": 2,
   "metadata": {},
   "outputs": [
    {
     "data": {
      "text/html": [
       "<table>\n",
       "<caption>A data.frame: 6 × 2</caption>\n",
       "<thead>\n",
       "\t<tr><th></th><th scope=col>minutes</th><th scope=col>temperature</th></tr>\n",
       "\t<tr><th></th><th scope=col>&lt;dbl&gt;</th><th scope=col>&lt;dbl&gt;</th></tr>\n",
       "</thead>\n",
       "<tbody>\n",
       "\t<tr><th scope=row>1</th><td>10</td><td>12.6</td></tr>\n",
       "\t<tr><th scope=row>2</th><td>20</td><td>11.2</td></tr>\n",
       "\t<tr><th scope=row>3</th><td>30</td><td>11.9</td></tr>\n",
       "\t<tr><th scope=row>4</th><td>40</td><td>13.1</td></tr>\n",
       "\t<tr><th scope=row>5</th><td>50</td><td>12.0</td></tr>\n",
       "\t<tr><th scope=row>6</th><td>60</td><td>11.8</td></tr>\n",
       "</tbody>\n",
       "</table>\n"
      ],
      "text/latex": [
       "A data.frame: 6 × 2\n",
       "\\begin{tabular}{r|ll}\n",
       "  & minutes & temperature\\\\\n",
       "  & <dbl> & <dbl>\\\\\n",
       "\\hline\n",
       "\t1 & 10 & 12.6\\\\\n",
       "\t2 & 20 & 11.2\\\\\n",
       "\t3 & 30 & 11.9\\\\\n",
       "\t4 & 40 & 13.1\\\\\n",
       "\t5 & 50 & 12.0\\\\\n",
       "\t6 & 60 & 11.8\\\\\n",
       "\\end{tabular}\n"
      ],
      "text/markdown": [
       "\n",
       "A data.frame: 6 × 2\n",
       "\n",
       "| <!--/--> | minutes &lt;dbl&gt; | temperature &lt;dbl&gt; |\n",
       "|---|---|---|\n",
       "| 1 | 10 | 12.6 |\n",
       "| 2 | 20 | 11.2 |\n",
       "| 3 | 30 | 11.9 |\n",
       "| 4 | 40 | 13.1 |\n",
       "| 5 | 50 | 12.0 |\n",
       "| 6 | 60 | 11.8 |\n",
       "\n"
      ],
      "text/plain": [
       "  minutes temperature\n",
       "1 10      12.6       \n",
       "2 20      11.2       \n",
       "3 30      11.9       \n",
       "4 40      13.1       \n",
       "5 50      12.0       \n",
       "6 60      11.8       "
      ]
     },
     "metadata": {},
     "output_type": "display_data"
    }
   ],
   "source": [
    "#First create dataframe\n",
    "minutes <- c(10,20,30,40,50,60)\n",
    "temperature <- c(12.6,11.2,11.9,13.1,12.0,11.8)\n",
    "data <- data.frame(minutes,temperature)\n",
    "\n",
    "# Now display output\n",
    "head(data)"
   ]
  },
  {
   "cell_type": "markdown",
   "metadata": {},
   "source": [
    "a) Calculate $\\overline{T}$"
   ]
  },
  {
   "cell_type": "code",
   "execution_count": 3,
   "metadata": {},
   "outputs": [
    {
     "name": "stdout",
     "output_type": "stream",
     "text": [
      "average temperature is:  12.1 ° C \n",
      "average temperature is:  12.1 ° C \n"
     ]
    }
   ],
   "source": [
    "# You can calcute average temperature using the equation on slide 7 in Lecture 18 or using the the mean function\n",
    "\n",
    "# Let's try calculating average temperature using the equation on slide 7 in Lecture 18\n",
    "Tbar <- 1/6*(12.6+11.2+11.9+13.1+12.0+11.8)\n",
    "\n",
    "# Display output\n",
    "cat(\"average temperature is: \", Tbar, intToUtf8(176), \"C\", \"\\n\")\n",
    "\n",
    "# Now let's calculate average temperature using the average function\n",
    "Tbar2 <- mean(data$temperature)\n",
    "\n",
    "# Display output\n",
    "cat(\"average temperature is: \", Tbar2, intToUtf8(176), \"C\", \"\\n\")\n",
    "\n",
    "# We can see that the results are the same"
   ]
  },
  {
   "cell_type": "markdown",
   "metadata": {},
   "source": [
    "b) T' at 40 min"
   ]
  },
  {
   "cell_type": "code",
   "execution_count": 4,
   "metadata": {},
   "outputs": [
    {
     "data": {
      "text/html": [
       "<table>\n",
       "<caption>A data.frame: 6 × 3</caption>\n",
       "<thead>\n",
       "\t<tr><th></th><th scope=col>minutes</th><th scope=col>temperature</th><th scope=col>Tprime</th></tr>\n",
       "\t<tr><th></th><th scope=col>&lt;dbl&gt;</th><th scope=col>&lt;dbl&gt;</th><th scope=col>&lt;dbl&gt;</th></tr>\n",
       "</thead>\n",
       "<tbody>\n",
       "\t<tr><th scope=row>1</th><td>10</td><td>12.6</td><td> 0.5</td></tr>\n",
       "\t<tr><th scope=row>2</th><td>20</td><td>11.2</td><td>-0.9</td></tr>\n",
       "\t<tr><th scope=row>3</th><td>30</td><td>11.9</td><td>-0.2</td></tr>\n",
       "\t<tr><th scope=row>4</th><td>40</td><td>13.1</td><td> 1.0</td></tr>\n",
       "\t<tr><th scope=row>5</th><td>50</td><td>12.0</td><td>-0.1</td></tr>\n",
       "\t<tr><th scope=row>6</th><td>60</td><td>11.8</td><td>-0.3</td></tr>\n",
       "</tbody>\n",
       "</table>\n"
      ],
      "text/latex": [
       "A data.frame: 6 × 3\n",
       "\\begin{tabular}{r|lll}\n",
       "  & minutes & temperature & Tprime\\\\\n",
       "  & <dbl> & <dbl> & <dbl>\\\\\n",
       "\\hline\n",
       "\t1 & 10 & 12.6 &  0.5\\\\\n",
       "\t2 & 20 & 11.2 & -0.9\\\\\n",
       "\t3 & 30 & 11.9 & -0.2\\\\\n",
       "\t4 & 40 & 13.1 &  1.0\\\\\n",
       "\t5 & 50 & 12.0 & -0.1\\\\\n",
       "\t6 & 60 & 11.8 & -0.3\\\\\n",
       "\\end{tabular}\n"
      ],
      "text/markdown": [
       "\n",
       "A data.frame: 6 × 3\n",
       "\n",
       "| <!--/--> | minutes &lt;dbl&gt; | temperature &lt;dbl&gt; | Tprime &lt;dbl&gt; |\n",
       "|---|---|---|---|\n",
       "| 1 | 10 | 12.6 |  0.5 |\n",
       "| 2 | 20 | 11.2 | -0.9 |\n",
       "| 3 | 30 | 11.9 | -0.2 |\n",
       "| 4 | 40 | 13.1 |  1.0 |\n",
       "| 5 | 50 | 12.0 | -0.1 |\n",
       "| 6 | 60 | 11.8 | -0.3 |\n",
       "\n"
      ],
      "text/plain": [
       "  minutes temperature Tprime\n",
       "1 10      12.6         0.5  \n",
       "2 20      11.2        -0.9  \n",
       "3 30      11.9        -0.2  \n",
       "4 40      13.1         1.0  \n",
       "5 50      12.0        -0.1  \n",
       "6 60      11.8        -0.3  "
      ]
     },
     "metadata": {},
     "output_type": "display_data"
    },
    {
     "name": "stdout",
     "output_type": "stream",
     "text": [
      "T' at 40 min is:  1 ° C \n"
     ]
    }
   ],
   "source": [
    "# First we need to calculate deviations in temperature\n",
    "data$Tprime <- data$temperature-Tbar\n",
    "\n",
    "# Display output\n",
    "head(data)\n",
    "\n",
    "# From this table you can estimate T' at 40 min\n",
    "cat(\"T' at 40 min is: \", data$Tprime[4], intToUtf8(176), \"C\", \"\\n\") #data$Tprime[4] mean you're taking the 4th value of Tprime \n"
   ]
  },
  {
   "cell_type": "markdown",
   "metadata": {},
   "source": [
    "c) T$^{'2}$ at 20 min"
   ]
  },
  {
   "cell_type": "code",
   "execution_count": 5,
   "metadata": {},
   "outputs": [
    {
     "name": "stdout",
     "output_type": "stream",
     "text": [
      "T'2 at 30 min is:  0.81 ° C2 \n"
     ]
    }
   ],
   "source": [
    "# Again we can estimate that from the dataframe above (i.e. you'll need to squate T' at 20 min)\n",
    "Tprime_squared <- data$Tprime[2]^2\n",
    "\n",
    "# Display output\n",
    "cat(\"T'2 at 30 min is: \", Tprime_squared, intToUtf8(176), \"C2\", \"\\n\") #data$Tprime[4] mean you're taking the 4th value of Tprime "
   ]
  },
  {
   "cell_type": "markdown",
   "metadata": {},
   "source": [
    "d) $\\overline{T^{'}}$"
   ]
  },
  {
   "cell_type": "code",
   "execution_count": 15,
   "metadata": {},
   "outputs": [
    {
     "name": "stdout",
     "output_type": "stream",
     "text": [
      "The average deviation in T is:  0 ° C \n"
     ]
    }
   ],
   "source": [
    "# By default this term should be zero, but we can check this using the following\n",
    "Tprime_mean <- 1/6*sum(data$Tprime)\n",
    "Tprime_mean <- mean(data$Tprime)\n",
    "\n",
    "# Display output\n",
    "cat(\"The average deviation in T is: \", round(Tprime_mean,10), intToUtf8(176), \"C\", \"\\n\")"
   ]
  },
  {
   "cell_type": "markdown",
   "metadata": {},
   "source": [
    "e) $\\overline{T^{'2}}$"
   ]
  },
  {
   "cell_type": "code",
   "execution_count": 17,
   "metadata": {},
   "outputs": [
    {
     "name": "stdout",
     "output_type": "stream",
     "text": [
      "the the variance of the time series of T is:  0.37 ° C2 \n"
     ]
    }
   ],
   "source": [
    "# This is the the variance of the time series of T. We can calculate it as follows\n",
    "Tprime_squared_mean <- 1/6*sum(data$Tprime^2)\n",
    "Tprime_squared_mean <- mean(data$Tprime^2)\n",
    "\n",
    "# Display output\n",
    "cat(\"the the variance of the time series of T is: \", round(Tprime_squared_mean,2), intToUtf8(176), \"C2\", \"\\n\")"
   ]
  },
  {
   "cell_type": "markdown",
   "metadata": {},
   "source": [
    "f) $\\overline{T^{'}}^{2}$"
   ]
  },
  {
   "cell_type": "code",
   "execution_count": 8,
   "metadata": {},
   "outputs": [
    {
     "name": "stdout",
     "output_type": "stream",
     "text": [
      "mean T' is:  0 ° C \n"
     ]
    }
   ],
   "source": [
    "# Again by default this term should be zero, but we can check this using the following\n",
    "Tprime_mean_squared <- mean(data$Tprime)^2\n",
    "\n",
    "# Display output\n",
    "cat(\"mean T' is: \", round(Tprime_mean_squared,10), intToUtf8(176), \"C\", \"\\n\")"
   ]
  },
  {
   "cell_type": "markdown",
   "metadata": {},
   "source": [
    "Q2. See the handout for Study Questions - Lecture 18. This is best solved by hand"
   ]
  },
  {
   "cell_type": "markdown",
   "metadata": {},
   "source": [
    "Q3. Calculate the following parameters if $\\overline{u}$ = 4 m s$^{-1}$, $\\overline{v}$ = 0 m s$^{-1}$, $\\overline{w}$ = 0 m s$^{-1}$, $\\sigma_{u}$ = 0.4 m s$^{-1}$, $\\sigma_{v}$ = 0.2 m s$^{-1}$, and  $\\sigma_{w}$ = 0.1 m s$^{-1}$"
   ]
  },
  {
   "cell_type": "markdown",
   "metadata": {},
   "source": [
    "a) I$_{u}$"
   ]
  },
  {
   "cell_type": "code",
   "execution_count": 18,
   "metadata": {},
   "outputs": [
    {
     "name": "stdout",
     "output_type": "stream",
     "text": [
      "Iu is:  0.1 \n"
     ]
    }
   ],
   "source": [
    "# We can calculate the turbulence intensity as follows:\n",
    "# First define the standard deviation\n",
    "sigma_u <- 0.4\n",
    "\n",
    "# Next estimate M\n",
    "ubar <- 4\n",
    "vbar <- 0\n",
    "wbar <- 0\n",
    "M <- sqrt(ubar^2+vbar^2+wbar^2)\n",
    "\n",
    "# Now you can calculate the turbulence intensity\n",
    "Iu <- sigma_u/M\n",
    "\n",
    "# Display output\n",
    "cat(\"Iu is: \", round(Iu,3), \"\\n\")"
   ]
  },
  {
   "cell_type": "markdown",
   "metadata": {},
   "source": [
    "b) I$_{w}$"
   ]
  },
  {
   "cell_type": "code",
   "execution_count": 10,
   "metadata": {},
   "outputs": [
    {
     "name": "stdout",
     "output_type": "stream",
     "text": [
      "Iw is:  0.025 \n"
     ]
    }
   ],
   "source": [
    "# define the standard deviation for w\n",
    "sigma_w <- 0.1\n",
    "\n",
    "# Next calculate the turbulence intensity\n",
    "Iw <- sigma_w/M\n",
    "\n",
    "# Display output\n",
    "cat(\"Iw is: \", round(Iw,3), \"\\n\")"
   ]
  },
  {
   "cell_type": "markdown",
   "metadata": {},
   "source": [
    "c) $\\overline{w^{'2}}$"
   ]
  },
  {
   "cell_type": "code",
   "execution_count": 11,
   "metadata": {},
   "outputs": [
    {
     "name": "stdout",
     "output_type": "stream",
     "text": [
      "The variance of w is:  0.01 m2/s2 \n"
     ]
    }
   ],
   "source": [
    "# Estimate this term using the standard deivation for w\n",
    "variance_w <- sigma_w^2\n",
    "\n",
    "# Display output\n",
    "cat(\"The variance of w is: \", round(variance_w,3), \"m2/s2\", \"\\n\")"
   ]
  },
  {
   "cell_type": "markdown",
   "metadata": {},
   "source": [
    "d) $\\overline{u^{'2}}$+$\\overline{v^{'2}}$+$\\overline{w^{'2}}$"
   ]
  },
  {
   "cell_type": "code",
   "execution_count": 12,
   "metadata": {},
   "outputs": [
    {
     "name": "stdout",
     "output_type": "stream",
     "text": [
      "This is equal to:  0.21 m2/s2 \n"
     ]
    }
   ],
   "source": [
    "# Estimate this value using a similar calculation to that shown above\n",
    "sigma_v <- 0.2\n",
    "term <- sigma_u^2+sigma_v^2+sigma_w^2\n",
    "\n",
    "# Display output\n",
    "cat(\"This is equal to: \", round(term,3), \"m2/s2\", \"\\n\")"
   ]
  },
  {
   "cell_type": "markdown",
   "metadata": {},
   "source": [
    " e) MKE/m"
   ]
  },
  {
   "cell_type": "code",
   "execution_count": 13,
   "metadata": {},
   "outputs": [
    {
     "name": "stdout",
     "output_type": "stream",
     "text": [
      "The mean kinetic energy (MKE) per unit mass is:  8 m2/s2 \n"
     ]
    }
   ],
   "source": [
    "# We can calculate mean kinetic energy (MKE) per unit mass (m) if we know the mean flow in the u,v, and w directions (which are define above)\n",
    "MKE <- 1/2*(ubar^2+vbar^2+wbar^2)\n",
    "\n",
    "# Display output\n",
    "cat(\"The mean kinetic energy (MKE) per unit mass is: \", round(MKE,3), \"m2/s2\", \"\\n\")"
   ]
  },
  {
   "cell_type": "markdown",
   "metadata": {},
   "source": [
    "d) $\\overline{e}$"
   ]
  },
  {
   "cell_type": "code",
   "execution_count": 14,
   "metadata": {},
   "outputs": [
    {
     "name": "stdout",
     "output_type": "stream",
     "text": [
      "The turbulent kinetic energy per unit mass is:  0.105 m2/s2 \n"
     ]
    }
   ],
   "source": [
    "# The turbulent kinetic energy per unit mass can be estimate as:\n",
    "e <- 1/2*term\n",
    "\n",
    "# Display output\n",
    "cat(\"The turbulent kinetic energy per unit mass is: \", round(e,3), \"m2/s2\", \"\\n\")"
   ]
  }
 ],
 "metadata": {
  "kernelspec": {
   "display_name": "R",
   "language": "R",
   "name": "ir"
  },
  "language_info": {
   "codemirror_mode": "r",
   "file_extension": ".r",
   "mimetype": "text/x-r-source",
   "name": "R",
   "pygments_lexer": "r",
   "version": "3.6.2"
  }
 },
 "nbformat": 4,
 "nbformat_minor": 4
}
