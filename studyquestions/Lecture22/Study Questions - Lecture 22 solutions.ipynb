{
 "cells": [
  {
   "cell_type": "code",
   "execution_count": null,
   "metadata": {},
   "outputs": [],
   "source": [
    "# <center>University of British Columbia, Vancouver</center> \n",
    "## <center>GEOB 300 - Microscale Weather and Climate</center>  \n",
    "### <center>Student Name, Student ID</center> "
   ]
  },
  {
   "cell_type": "markdown",
   "metadata": {},
   "source": [
    "Q1. You measure a covariance $\\overline{w'T'}$ = -0.031 m s$^{-1}$ K. Average air temperature is 10 $^\\circ$C. Calculate Q$_{H}$. Is this a day-time or night-time situation?"
   ]
  },
  {
   "cell_type": "code",
   "execution_count": 3,
   "metadata": {},
   "outputs": [
    {
     "name": "stdout",
     "output_type": "stream",
     "text": [
      "Qh is:  -38.5 W/m \n"
     ]
    }
   ],
   "source": [
    "covwt <- -0.031\n",
    "rho <- 1.230\n",
    "cp <- 1010\n",
    "\n",
    "Qh <- rho*cp*covwt\n",
    "\n",
    "cat(\"Qh is: \", round(Qh,1), \"W/m\", \"\\n\")"
   ]
  },
  {
   "cell_type": "markdown",
   "metadata": {},
   "source": [
    "Q2. You measure a covariance $\\overline{w'\\rho_{v}'}$ = 1.73 x 10$^{-4}$ kg m$^{-2}$ s$^{-1}$. $\\rho_{v}$ is the\n",
    "water vapour density in kg m$^{-3}$. Average air temperature is 30 $^\\circ$C. Calculate Q$_{E}$."
   ]
  },
  {
   "cell_type": "code",
   "execution_count": 4,
   "metadata": {},
   "outputs": [
    {
     "name": "stdout",
     "output_type": "stream",
     "text": [
      "Qe is:  420.7 W/m \n"
     ]
    }
   ],
   "source": [
    "Lv <- 2.432*10^6\n",
    "covwrho <- 1.73*10^-4\n",
    "\n",
    "Qe <- Lv*covwrho\n",
    "\n",
    "cat(\"Qe is: \", round(Qe,1), \"W/m\", \"\\n\")"
   ]
  },
  {
   "cell_type": "markdown",
   "metadata": {},
   "source": [
    "Q3. Determine the Bowen ratio $\\beta$ if $\\overline{w'T'}$ = 0.121 m s$^{-1}$ K and $\\overline{w'\\rho_{v}'}$ = 1.21 x 10$^{-4}$ kg m$^{-2}$ s$^{-1}$. Average air temperature is 20 $^\\circ$C."
   ]
  },
  {
   "cell_type": "code",
   "execution_count": 7,
   "metadata": {},
   "outputs": [
    {
     "name": "stdout",
     "output_type": "stream",
     "text": [
      "Qh is:  145.2 W/m \n",
      "Qe is:  296.8 W/m \n",
      "The Bowen Ratio is:  0.49 \n"
     ]
    }
   ],
   "source": [
    "covwt <- 0.121\n",
    "rho <- 1.188\n",
    "cp <- 1010\n",
    "\n",
    "Qh <- rho*cp*covwt\n",
    "\n",
    "cat(\"Qh is: \", round(Qh,1), \"W/m\", \"\\n\")\n",
    "\n",
    "Lv <- 2.453*10^6\n",
    "covwrho <- 1.21*10^-4\n",
    "\n",
    "Qe <- Lv*covwrho\n",
    "\n",
    "cat(\"Qe is: \", round(Qe,1), \"W/m\", \"\\n\")\n",
    "\n",
    "beta <- Qh/Qe\n",
    "\n",
    "cat(\"The Bowen Ratio is: \", round(beta,2), \"\\n\")"
   ]
  },
  {
   "cell_type": "markdown",
   "metadata": {},
   "source": [
    "Q4. Given is Q$_{E}$ = 240 W m$^{-2}$ at 20 $^{\\circ}$C air temperature. Determine the\n",
    "covariance $\\overline{w'q'}$, where $q$ is the specific humidity (in g water vapour\n",
    "per kg air ,i.e. g kg$^{-1}$)."
   ]
  },
  {
   "cell_type": "code",
   "execution_count": 13,
   "metadata": {},
   "outputs": [
    {
     "name": "stdout",
     "output_type": "stream",
     "text": [
      "𝑤′𝑞' is:  8.235638e-05 m s-1 g kg-1 \n"
     ]
    }
   ],
   "source": [
    "Qe <- 240\n",
    "Lv <- 2.453*10^6\n",
    "rhoa <- 1.188\n",
    "\n",
    "covwq <- Qe/(Lv*rhoa)\n",
    "\n",
    "cat(\"𝑤′𝑞' is: \", covwq, \"m s-1 g kg-1\", \"\\n\")"
   ]
  },
  {
   "cell_type": "markdown",
   "metadata": {},
   "source": [
    "Q5. Over a rice paddy you measure a covariance between vertical wind and\n",
    "methane concentration $\\rho$$_{CH4}$ in $\\mu$g m$^{-3}$ of $\\overline{w'\\rho_{CH4}'}$ = 10 m s$^{-1}$ $\\mu$g m$^{-3}$.\n",
    "Determine the mass fux density between surface and atmosphere."
   ]
  },
  {
   "cell_type": "code",
   "execution_count": 14,
   "metadata": {},
   "outputs": [
    {
     "name": "stdout",
     "output_type": "stream",
     "text": [
      "FCH4 is:  10 ug m-2 s-1 \n"
     ]
    }
   ],
   "source": [
    "cat(\"FCH4 is: \", 10, \"ug m-2 s-1\", \"\\n\")"
   ]
  }
 ],
 "metadata": {
  "kernelspec": {
   "display_name": "R",
   "language": "R",
   "name": "ir"
  },
  "language_info": {
   "codemirror_mode": "r",
   "file_extension": ".r",
   "mimetype": "text/x-r-source",
   "name": "R",
   "pygments_lexer": "r",
   "version": "4.2.2"
  }
 },
 "nbformat": 4,
 "nbformat_minor": 4
}
