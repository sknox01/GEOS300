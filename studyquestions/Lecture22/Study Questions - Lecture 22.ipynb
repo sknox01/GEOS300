{
 "cells": [
  {
   "cell_type": "code",
   "execution_count": 1,
   "metadata": {},
   "outputs": [],
   "source": [
    "# <center>University of British Columbia, Vancouver</center> \n",
    "## <center>GEOB 300 - Microscale Weather and Climate</center>  \n",
    "### <center>Student Name, Student ID</center> "
   ]
  },
  {
   "cell_type": "markdown",
   "metadata": {},
   "source": [
    "Q1. You measure a covariance $\\overline{w'T'}$ = -0.031 m s$^{-1}$ K. Average air temperature is 10 $^\\circ$C. Calculate Q$_{H}$. Is this a day-time or night-time situation?"
   ]
  },
  {
   "cell_type": "code",
   "execution_count": null,
   "metadata": {},
   "outputs": [],
   "source": []
  },
  {
   "cell_type": "markdown",
   "metadata": {},
   "source": [
    "Q2. You measure a covariance $\\overline{w'\\rho_{v}'}$ = 1.73 x 10$^{-4}$ kg m$^{-2}$ s$^{-1}$. $\\rho_{v}$ is the\n",
    "water vapour density in kg m$^{-3}$. Average air temperature is 30 $^\\circ$C. Calculate Q$_{E}$."
   ]
  },
  {
   "cell_type": "code",
   "execution_count": null,
   "metadata": {},
   "outputs": [],
   "source": []
  },
  {
   "cell_type": "markdown",
   "metadata": {},
   "source": [
    "Q3. Determine the Bowen ratio $\\beta$ if $\\overline{w'T'}$ = 0.121 m s$^{-1}$ K and $\\overline{w'\\rho_{v}'}$ = 1.21 x 10$^{-4}$ kg m$^{-2}$ s$^{-1}$. Average air temperature is 20 $^\\circ$C."
   ]
  },
  {
   "cell_type": "code",
   "execution_count": null,
   "metadata": {},
   "outputs": [],
   "source": []
  },
  {
   "cell_type": "markdown",
   "metadata": {},
   "source": [
    "Q4. Given is Q$_{E}$ = 240 W m$^{-2}$ at 20 $^{\\circ}$C air temperature. Determine the\n",
    "covariance $\\overline{w'q'}$, where $q$ is the specific humidity (in g water vapour\n",
    "per kg air ,i.e. g kg$^{-1}$)."
   ]
  },
  {
   "cell_type": "code",
   "execution_count": null,
   "metadata": {},
   "outputs": [],
   "source": []
  },
  {
   "cell_type": "markdown",
   "metadata": {},
   "source": [
    "Q5. Over a rice paddy you measure a covariance between vertical wind and\n",
    "methane concentration $\\rho$$_{CH4}$ in $\\mu$g m$^{-3}$ of $\\overline{w'\\rho_{CH4}'}$ = 10 m s$^{-1}$ $\\mu$g m$^{-3}$.\n",
    "Determine the mass fux density between surface and atmosphere."
   ]
  },
  {
   "cell_type": "code",
   "execution_count": null,
   "metadata": {},
   "outputs": [],
   "source": []
  }
 ],
 "metadata": {
  "kernelspec": {
   "display_name": "R",
   "language": "R",
   "name": "ir"
  },
  "language_info": {
   "codemirror_mode": "r",
   "file_extension": ".r",
   "mimetype": "text/x-r-source",
   "name": "R",
   "pygments_lexer": "r",
   "version": "4.2.2"
  }
 },
 "nbformat": 4,
 "nbformat_minor": 4
}
