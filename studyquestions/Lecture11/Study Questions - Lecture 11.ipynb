{
 "cells": [
  {
   "cell_type": "code",
   "execution_count": null,
   "metadata": {},
   "outputs": [],
   "source": [
    "# <center>University of British Columbia, Vancouver</center> \n",
    "## <center>GEOB 300 - Microscale Weather and Climate</center>  \n",
    "### <center>Student Name, Student ID</center> "
   ]
  },
  {
   "cell_type": "markdown",
   "metadata": {},
   "source": [
    "Q1. At 11:30 in the morning, we measure a soil heat flux density QG(5cm) of 25 W m−2 using a heat flux plate installed at 5 cm depth. Calculate the soil heat flux density at the surface QG(0), if the soil’s heat capacity in the layer from 0 to 5 cm depth is 2 MJ m−3 K−1 and the temperature in the same layer changed from 24.8◦C at 11:00 to 25.3◦C at 12:00."
   ]
  },
  {
   "cell_type": "code",
   "execution_count": null,
   "metadata": {},
   "outputs": [],
   "source": []
  },
  {
   "cell_type": "markdown",
   "metadata": {},
   "source": [
    "Q2. For the same soil, at 20:30 in the evening, we measure a soil heat flux density QG(5cm) of −12 W m−2. Calculate the soil heat flux density at the surface QG(0), if the temperature in the layer from 0 to 5 cm depth changed from 7.5 at 20:00 to 7.0◦C at 21:00."
   ]
  },
  {
   "cell_type": "code",
   "execution_count": null,
   "metadata": {},
   "outputs": [],
   "source": []
  },
  {
   "cell_type": "markdown",
   "metadata": {},
   "source": [
    "Q3. What is meant by “heat sharing”?"
   ]
  },
  {
   "cell_type": "code",
   "execution_count": null,
   "metadata": {},
   "outputs": [],
   "source": [
    "# Enter answer hear and convert to markdown after"
   ]
  },
  {
   "cell_type": "markdown",
   "metadata": {},
   "source": [
    "Q4. Calculate the sensible heat flux QH at 11:30 for the example in Question 1, if the soil’s thermal conductivity is k = 0.27 W m−1 K−1 and the atmospheric thermal admittance μa is ≈ 5000 J m−2 K−1 s−1/2."
   ]
  },
  {
   "cell_type": "code",
   "execution_count": null,
   "metadata": {},
   "outputs": [],
   "source": []
  }
 ],
 "metadata": {
  "kernelspec": {
   "display_name": "R",
   "language": "R",
   "name": "ir"
  },
  "language_info": {
   "codemirror_mode": "r",
   "file_extension": ".r",
   "mimetype": "text/x-r-source",
   "name": "R",
   "pygments_lexer": "r",
   "version": "4.2.2"
  }
 },
 "nbformat": 4,
 "nbformat_minor": 4
}
