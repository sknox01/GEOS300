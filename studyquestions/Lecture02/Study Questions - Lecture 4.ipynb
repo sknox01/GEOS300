{
 "cells": [
  {
   "cell_type": "markdown",
   "metadata": {},
   "source": [
    "# <center>University of British Columbia, Vancouver</center> \n",
    "## <center>GEOB 300 - Microscale Weather and Climate</center>  \n",
    "### <center>Student Name, Student ID</center>  "
   ]
  },
  {
   "cell_type": "markdown",
   "metadata": {},
   "source": [
    "1. Calculate Earth’s declination δ for the following dates: January 1, March 22, June 21, and December 31."
   ]
  },
  {
   "cell_type": "code",
   "execution_count": 1,
   "metadata": {},
   "outputs": [
    {
     "name": "stdout",
     "output_type": "stream",
     "text": [
      "DOYs included in the vector are:  1 81 172 365"
     ]
    }
   ],
   "source": [
    "# First define the DOY (day of year). This can either be done for a single day (i.e. a single value), or can be written as a vector (i.e. as shown below)\n",
    "DOY <- c(1,81,172,365) # the c() function creates a vector\n",
    "cat(\"DOYs included in the vector are: \", DOY) # This displays DOY"
   ]
  },
  {
   "cell_type": "code",
   "execution_count": 2,
   "metadata": {},
   "outputs": [],
   "source": [
    "# The declination angle (δ or defined as delta below) can be estimated using the simplified equation in Lecture 4, Slide 7\n",
    "delta <- -23.4*cos(2*pi*(DOY+10)/365)"
   ]
  },
  {
   "cell_type": "code",
   "execution_count": 3,
   "metadata": {},
   "outputs": [
    {
     "name": "stdout",
     "output_type": "stream",
     "text": [
      "The declination for January 1 is:  -22.98 ° \n",
      "The declination for March 22 is:  -0.1 ° \n",
      "The declination for June 21 is:  23.4 ° \n",
      "The declination for December 31 is:  -23.05 ° \n"
     ]
    }
   ],
   "source": [
    "# Display output for all dates \n",
    "cat(\"The declination for January 1 is: \", round(delta[1],2),intToUtf8(176), \"\\n\") # intToUtf8(176) is the symbol for degree\n",
    "cat(\"The declination for March 22 is: \", round(delta[2],2),intToUtf8(176), \"\\n\")\n",
    "cat(\"The declination for June 21 is: \", round(delta[3],2),intToUtf8(176), \"\\n\")\n",
    "cat(\"The declination for December 31 is: \", round(delta[4],2),intToUtf8(176), \"\\n\")"
   ]
  },
  {
   "cell_type": "code",
   "execution_count": 4,
   "metadata": {},
   "outputs": [],
   "source": [
    "# A more accurate way of estimating the declination angle is given below\n",
    "\n",
    "# First we need to estimaty gamma (γ) - the fractional year:\n",
    "gamma <- ((2*pi/365)*(DOY-1))\n",
    "\n",
    "# Next, estimate the declination angle using the more precise method. We will call this variable delta2 \n",
    "delta2 <- 0.006918 - 0.399912*cos(gamma) + 0.070257*sin(gamma) - 0.006758*cos(2*gamma) + 0.000907*sin(2*gamma) - 0.002697*cos(3*gamma) + 0.00148*sin(3*gamma)\n",
    "\n",
    "# Note that delta2 is in radians - we need to convert radians to degrees\n",
    "delta2deg <- delta2*(180/pi)"
   ]
  },
  {
   "cell_type": "code",
   "execution_count": 5,
   "metadata": {},
   "outputs": [
    {
     "name": "stdout",
     "output_type": "stream",
     "text": [
      "The declination for January 1 is:  -23.06 ° \n",
      "The declination for March 22 is:  0.33 ° \n",
      "The declination for June 21 is:  23.45 ° \n",
      "The declination for December 31 is:  -23.13 ° \n"
     ]
    }
   ],
   "source": [
    "# Display output for all dates for gamma2deg (declination angle in degrees) - note that the answers are close to the output above for delta, but differ slightly\n",
    "cat(\"The declination for January 1 is: \", round(delta2deg[1],2),intToUtf8(176), \"\\n\")\n",
    "cat(\"The declination for March 22 is: \", round(delta2deg[2],2),intToUtf8(176), \"\\n\")\n",
    "cat(\"The declination for June 21 is: \", round(delta2deg[3],2),intToUtf8(176), \"\\n\")\n",
    "cat(\"The declination for December 31 is: \", round(delta2deg[4],2),intToUtf8(176), \"\\n\")"
   ]
  },
  {
   "cell_type": "markdown",
   "metadata": {},
   "source": [
    "2. Calculate the Local Mean Solar Time (LMST) for Port Hardy, BC on Vancouver Island, if a regular 24h clock shows 14:00 on February 15th, and 08:00 on July 22nd."
   ]
  },
  {
   "cell_type": "code",
   "execution_count": 6,
   "metadata": {},
   "outputs": [
    {
     "name": "stdout",
     "output_type": "stream",
     "text": [
      "At 14:00 on February 15th LMST is:  13:30:00 \n",
      "At 08:00 on July 22nd LMST is:  06:30:00 \n"
     ]
    }
   ],
   "source": [
    "# First define Local Solar Time (LST)\n",
    "# You will need to install the hms package \n",
    "# install.packages(\"hms\") #uncomment the first time you run this, then comment out again\n",
    "library(hms)\n",
    "\n",
    "LST <- c(as_hms(\"14:00:00\"),as_hms(\"08:00:00\"))\n",
    "\n",
    "# define the standard meridian for Port Hardy\n",
    "Standard_meridian <- -120\n",
    "\n",
    "# Define the longitude\n",
    "long <- -127.5\n",
    "\n",
    "# Define the difference between Port Hardy's longitude and the standard meridian\n",
    "delta_long  <-  long-Standard_meridian\n",
    "\n",
    "# Specify if we need to account for daylight savings (no for Feb 15th and yes for July 22nd - see answer key for more details)\n",
    "DST <- c(hms(0,0,0),hms(0,0,1)) # First hms is for Feb 15th and the second hms is July 22nd to take into account daylight savings\n",
    "\n",
    "# Calculate LMST for both days\n",
    "LMST <- LST+hms(0,delta_long*4,0)-DST\n",
    "\n",
    "# This is needed to output LMST in R's time format\n",
    "LMST <- hms(as.numeric(LMST))\n",
    "\n",
    "# Display output\n",
    "cat(\"At 14:00 on February 15th LMST is: \", as.character(LMST[1]), \"\\n\")\n",
    "cat(\"At 08:00 on July 22nd LMST is: \", as.character(LMST[2]), \"\\n\")\n"
   ]
  },
  {
   "cell_type": "markdown",
   "metadata": {},
   "source": [
    "3. Calculate the Local Apparent Time (LAT) for the same location and times."
   ]
  },
  {
   "cell_type": "code",
   "execution_count": 7,
   "metadata": {},
   "outputs": [],
   "source": [
    "# First define day of year and then γ (i.e. fractional year in radians as described in Q1)\n",
    "DOY <- c(46,203)\n",
    "gamma <- (2*pi/365*(DOY-1))"
   ]
  },
  {
   "cell_type": "code",
   "execution_count": 8,
   "metadata": {},
   "outputs": [],
   "source": [
    "# Next the time offset between LMST and LAT (∆TLAT, i.e. deltaT_LAT), in minutes can be calculated using the formula given in Lecture 4, Slide 12\n",
    "deltaT_LAT <- 229.18*(0.000075 + 0.001868*cos(gamma) - 0.032077*sin(gamma) - 0.014615*cos(2*gamma) - 0.040849*sin(2*gamma))\n",
    "\n",
    "# Convert to R time format \n",
    "deltaT_LAT <- hms(seconds = NULL, minutes = deltaT_LAT, hours = NULL, days = NULL)"
   ]
  },
  {
   "cell_type": "code",
   "execution_count": 9,
   "metadata": {},
   "outputs": [
    {
     "name": "stdout",
     "output_type": "stream",
     "text": [
      "At 14:00 on February 15th LAT is:  13:44:15.031842 \n",
      "At 08:00 on July 22nd LAT is:  06:36:24.686169 \n"
     ]
    }
   ],
   "source": [
    "# Hence, LAT = LMST − ∆TLAT\n",
    "LAT <- LMST - hms(as.numeric(deltaT_LAT))\n",
    "\n",
    "# This is needed to output LAT in R's time format\n",
    "LAT <- hms(as.numeric(LAT))\n",
    "\n",
    "# Display output\n",
    "cat(\"At 14:00 on February 15th LAT is: \", as.character(LAT[1]), \"\\n\")\n",
    "cat(\"At 08:00 on July 22nd LAT is: \", as.character(LAT[2]), \"\\n\")"
   ]
  },
  {
   "cell_type": "markdown",
   "metadata": {},
   "source": [
    "4. Calculate the solar altitude angle β for the same location and those two times."
   ]
  },
  {
   "cell_type": "markdown",
   "metadata": {},
   "source": [
    "The solar altitude β can then be calculated by: sin β = sinφsinδ + cosφcosδcosh\n",
    "where φ is the latitude (50◦72′N for Port Hardy), δ is the declination (calculated as above), and h is the hour angle"
   ]
  },
  {
   "cell_type": "code",
   "execution_count": 10,
   "metadata": {},
   "outputs": [
    {
     "name": "stdout",
     "output_type": "stream",
     "text": [
      "For February 15 β is:  22.4 ° \n",
      "For July 22 β is:  21.3 ° \n"
     ]
    }
   ],
   "source": [
    "# To estimate the declination angle, first we need to calculate gamma (γ) - the fractional year. Note that we have to reculate gamma here since we are using different DOYs from Q1.\n",
    "gamma <- ((2*pi/365)*(DOY-1))\n",
    "\n",
    "# Now we can calculate the declination angle using the more precise formulation\n",
    "delta2 <- 0.006918 - 0.399912*cos(gamma) + 0.070257*sin(gamma) - 0.006758*cos(2*gamma) + 0.000907*sin(2*gamma) - 0.002697*cos(3*gamma) + 0.00148*sin(3*gamma)\n",
    "\n",
    "# Note that delta2 is in radians - we need to convert radians to degrees\n",
    "delta2deg <- delta2*(180/pi)\n",
    "\n",
    "# Define latitude. Note that here we use a vector to be able to calculate the solar altitude angle for both days\n",
    "latitude <- c(50.72,50.72)\n",
    "\n",
    "# Next we can calculate the hour angle (h = 15◦(12 − LAT)) using LAT estimated above. \n",
    "# Note LAT is the local apparent time (see above) in hours of the day (with minutes as a fraction of an hour). This can be calculated using the following:\n",
    "LAT2 <- as.numeric(LAT)/60/60 # This converts hh:mm:ss to hour of the day\n",
    "\n",
    "# Now calculate h\n",
    "h <- round(15*(12-LAT2)) # Round the hour angle to the nearest degree using round()\n",
    "\n",
    "# Now we can calculate the solar altitude angle\n",
    "# First calculate sin β - note that we have to convert angles in degrees to radians (multiply degrees by (pi/180))\n",
    "sinbeta <- sin(latitude*(pi/180))*sin(delta2deg*(pi/180))+cos(latitude*(pi/180))*cos(delta2deg*(pi/180))*cos(h*(pi/180))\n",
    "\n",
    "# Next calculate β (*(180/pi) to convert radians to degrees)\n",
    "beta <- asin(sinbeta)*(180/pi)\n",
    "\n",
    "# Display output\n",
    "cat(\"For February 15 β is: \", round(beta[1],2), intToUtf8(176), \"\\n\") # β is rounded to 2 decimal points (using round() function)\n",
    "cat(\"For July 22 β is: \", round(beta[2],2),intToUtf8(176), \"\\n\") # β is rounded to 2 decimal points (using round() function)"
   ]
  },
  {
   "cell_type": "markdown",
   "metadata": {},
   "source": [
    "5. Calculate the extraterrestrial short-wave irradiance KEx for the same location and those two times."
   ]
  },
  {
   "cell_type": "code",
   "execution_count": 11,
   "metadata": {},
   "outputs": [
    {
     "name": "stdout",
     "output_type": "stream",
     "text": [
      "For February 15 at 14:00 KEx is:  534 W/m2 \n",
      "For July 22 at 8:00 KEx is:  480 W/m2 \n"
     ]
    }
   ],
   "source": [
    "# Define the solar constant (I0):\n",
    "Io  <- 1366.5 # units of W m−2\n",
    "\n",
    "# Account for the non-circular orbit (changing distance over course of a year) (note gamma is calculated above)\n",
    "ratio2 <- 1.00011 + 0.034221*cos(gamma) + 0.001280*sin(gamma) + 0.000719*cos(2*gamma) + 0.000077*sin(2*gamma)\n",
    "\n",
    "# Calculate KEx (note that sinbeta is estimated above)\n",
    "KEx <- Io*ratio2*sinbeta\n",
    "\n",
    "cat(\"For February 15 at 14:00 KEx is: \", round(KEx[1]), \"W/m2\", \"\\n\")\n",
    "cat(\"For July 22 at 8:00 KEx is: \", round(KEx[2]), \"W/m2\", \"\\n\")\n"
   ]
  }
 ],
 "metadata": {
  "kernelspec": {
   "display_name": "R",
   "language": "R",
   "name": "ir"
  },
  "language_info": {
   "codemirror_mode": "r",
   "file_extension": ".r",
   "mimetype": "text/x-r-source",
   "name": "R",
   "pygments_lexer": "r",
   "version": "4.0.2"
  }
 },
 "nbformat": 4,
 "nbformat_minor": 2
}
