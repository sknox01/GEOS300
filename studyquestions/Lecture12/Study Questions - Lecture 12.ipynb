{
 "cells": [
  {
   "cell_type": "code",
   "execution_count": null,
   "metadata": {},
   "outputs": [],
   "source": [
    "# <center>University of British Columbia, Vancouver</center> \n",
    "## <center>GEOB 300 - Microscale Weather and Climate</center>  \n",
    "### <center>Student Name, Student ID</center> "
   ]
  },
  {
   "cell_type": "markdown",
   "metadata": {},
   "source": [
    "Q1. How does the amplitude and phase lag of soil temperatures in a completely dry soil depend on (a) depth, and (b) soil organic matter content (at constant porosity)?"
   ]
  },
  {
   "cell_type": "code",
   "execution_count": null,
   "metadata": {},
   "outputs": [],
   "source": [
    "# Enter anwer here an convert to Markdown after"
   ]
  },
  {
   "cell_type": "markdown",
   "metadata": {},
   "source": [
    "Q2. Calculate the angular frequency for a diurnal ωd and an annual temperature wave ωa."
   ]
  },
  {
   "cell_type": "code",
   "execution_count": null,
   "metadata": {},
   "outputs": [],
   "source": []
  },
  {
   "cell_type": "markdown",
   "metadata": {},
   "source": [
    "Q3. Calculate the daily and annual damping depth D for a mineral soil with a thermal diffusivity κ = 5.0×10−7 m2 s−1. How do you interpret your results?"
   ]
  },
  {
   "cell_type": "code",
   "execution_count": null,
   "metadata": {},
   "outputs": [],
   "source": []
  },
  {
   "cell_type": "code",
   "execution_count": null,
   "metadata": {},
   "outputs": [],
   "source": [
    "# How do you interpret your results? Enter answer here then convert to markdown"
   ]
  },
  {
   "cell_type": "markdown",
   "metadata": {},
   "source": [
    "Q4. For the same soil, calculate when the soil temperature reaches its maximum at 5 cm if the maximum surface temperature is measured at 13:00?"
   ]
  },
  {
   "cell_type": "code",
   "execution_count": null,
   "metadata": {},
   "outputs": [],
   "source": [
    "# the hms library will be helpful here\n",
    "library(hms)\n",
    "\n",
    "t1 <- as_hms(\"13:00:00\")\n",
    "\n",
    "z1 <- \n",
    "z2 <- \n",
    "\n",
    "# Calculate ∆t (dt)\n",
    "dt <- \n",
    "dt <- hms(as.numeric(dt))\n",
    "\n",
    "# Find when the soil temperature reaches its maximum at 5 cm\n",
    "t2 <- dt+t1\n",
    "t2 <- hms(as.numeric(t2))\n",
    "         \n",
    "# Display output\n",
    "cat(\"Soil temperature reaches its maximum at 5 cm at: \", as.character(t2), \"\\n\")        "
   ]
  },
  {
   "cell_type": "markdown",
   "metadata": {},
   "source": [
    "Q5. In a different soil, you measure the daily maximum 5-cm soil temperature at 15:00 and the maximum 15-cm soil temperature at 18:00. Assume homogeneous soil properties and sinusoidal waves, and calculate the soil’s thermal diffusivity κ."
   ]
  },
  {
   "cell_type": "code",
   "execution_count": null,
   "metadata": {},
   "outputs": [],
   "source": [
    "# the hms library will be helpful here too\n",
    "z1 <- \n",
    "z2 <- \n",
    "\n",
    "t1 <- as_hms(\"15:00:00\")\n",
    "t2 <- as_hms(\"18:00:00\")\n",
    "\n",
    "dt <- t1-t2\n",
    "\n",
    "# hint went estimating thermal diffusivity, use as.numeric(dt)\n"
   ]
  },
  {
   "cell_type": "markdown",
   "metadata": {},
   "source": [
    "Q6. Briefly compare the temperature regimes of mineral and organic soils."
   ]
  },
  {
   "cell_type": "code",
   "execution_count": null,
   "metadata": {},
   "outputs": [],
   "source": [
    "# Enter answer here then convert to markdown"
   ]
  }
 ],
 "metadata": {
  "kernelspec": {
   "display_name": "R",
   "language": "R",
   "name": "ir"
  },
  "language_info": {
   "codemirror_mode": "r",
   "file_extension": ".r",
   "mimetype": "text/x-r-source",
   "name": "R",
   "pygments_lexer": "r",
   "version": "3.6.2"
  }
 },
 "nbformat": 4,
 "nbformat_minor": 4
}
