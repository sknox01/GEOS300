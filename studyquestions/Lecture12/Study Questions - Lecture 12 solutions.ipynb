{
 "cells": [
  {
   "cell_type": "code",
   "execution_count": 1,
   "metadata": {},
   "outputs": [],
   "source": [
    "# <center>University of British Columbia, Vancouver</center> \n",
    "## <center>GEOB 300 - Microscale Weather and Climate</center>  \n",
    "### <center>Student Name, Student ID</center> "
   ]
  },
  {
   "cell_type": "markdown",
   "metadata": {},
   "source": [
    "Q1. How does the amplitude and phase lag of soil temperatures in a completely dry soil depend on (a) depth, and (b) soil organic matter content (at constant porosity)?"
   ]
  },
  {
   "cell_type": "code",
   "execution_count": 2,
   "metadata": {},
   "outputs": [],
   "source": [
    "# Enter anwer here an convert to Markdown after"
   ]
  },
  {
   "cell_type": "code",
   "execution_count": 3,
   "metadata": {},
   "outputs": [
    {
     "data": {
      "text/html": [
       "7.27220521664304e-05"
      ],
      "text/latex": [
       "7.27220521664304e-05"
      ],
      "text/markdown": [
       "7.27220521664304e-05"
      ],
      "text/plain": [
       "[1] 7.272205e-05"
      ]
     },
     "metadata": {},
     "output_type": "display_data"
    },
    {
     "data": {
      "text/html": [
       "1.99102127765723e-07"
      ],
      "text/latex": [
       "1.99102127765723e-07"
      ],
      "text/markdown": [
       "1.99102127765723e-07"
      ],
      "text/plain": [
       "[1] 1.991021e-07"
      ]
     },
     "metadata": {},
     "output_type": "display_data"
    }
   ],
   "source": [
    "omega_d <- 2*pi/(60*60*24)\n",
    "omega_d\n",
    "\n",
    "omega_y <- 2*pi/(60*60*24*365.25)\n",
    "omega_y"
   ]
  },
  {
   "cell_type": "markdown",
   "metadata": {},
   "source": [
    "Q3. Calculate the daily and annual damping depth D for a mineral soil with a thermal diffusivity κ = 5.0×10−7 m2 s−1. How do you interpret your results?"
   ]
  },
  {
   "cell_type": "code",
   "execution_count": 4,
   "metadata": {},
   "outputs": [
    {
     "data": {
      "text/html": [
       "0.117264602856701"
      ],
      "text/latex": [
       "0.117264602856701"
      ],
      "text/markdown": [
       "0.117264602856701"
      ],
      "text/plain": [
       "[1] 0.1172646"
      ]
     },
     "metadata": {},
     "output_type": "display_data"
    },
    {
     "data": {
      "text/html": [
       "2.24110419929926"
      ],
      "text/latex": [
       "2.24110419929926"
      ],
      "text/markdown": [
       "2.24110419929926"
      ],
      "text/plain": [
       "[1] 2.241104"
      ]
     },
     "metadata": {},
     "output_type": "display_data"
    }
   ],
   "source": [
    "kappa <- 5.0*10^-7\n",
    "D_d <- sqrt(2*kappa/omega_d)\n",
    "D_d\n",
    "\n",
    "D_y <- sqrt(2*kappa/omega_y)\n",
    "D_y"
   ]
  },
  {
   "cell_type": "code",
   "execution_count": 5,
   "metadata": {},
   "outputs": [],
   "source": [
    "# How do you interpret your results? Enter answer here then convert to markdown"
   ]
  },
  {
   "cell_type": "markdown",
   "metadata": {},
   "source": [
    "Q4. For the same soil, calculate when the soil temperature reaches its maximum at 5 cm if the maximum surface temperature is measured at 13:00?"
   ]
  },
  {
   "cell_type": "code",
   "execution_count": 6,
   "metadata": {},
   "outputs": [
    {
     "name": "stdout",
     "output_type": "stream",
     "text": [
      "Soil temperature reaches its maximum at 5 cm at:  14:37:43.230143 \n"
     ]
    }
   ],
   "source": [
    "# the hms library will be helpful here\n",
    "library(hms)\n",
    "\n",
    "t1 <- as_hms(\"13:00:00\")\n",
    "\n",
    "z1 <- 0\n",
    "z2 <- 0.05\n",
    "\n",
    "# Calculate ∆t (dt)\n",
    "dt <- (z2-z1)*sqrt(1/(2*omega_d*kappa))\n",
    "dt <- hms(as.numeric(dt))\n",
    "\n",
    "# Find\n",
    "t2 <- dt+t1\n",
    "t2 <- hms(as.numeric(t2))\n",
    "         \n",
    "# Display output\n",
    "cat(\"Soil temperature reaches its maximum at 5 cm at: \", as.character(t2), \"\\n\")        "
   ]
  },
  {
   "cell_type": "markdown",
   "metadata": {},
   "source": [
    "Q5. In a different soil, you measure the daily maximum 5-cm soil temperature at 15:00 and the maximum 15-cm soil temperature at 18:00. Assume homogeneous soil properties and sinusoidal waves, and calculate the soil’s thermal diffusivity κ."
   ]
  },
  {
   "cell_type": "code",
   "execution_count": 7,
   "metadata": {},
   "outputs": [
    {
     "data": {
      "text/plain": [
       "Time difference of -10800 secs"
      ]
     },
     "metadata": {},
     "output_type": "display_data"
    },
    {
     "data": {
      "text/html": [
       "5.89462752192205e-07"
      ],
      "text/latex": [
       "5.89462752192205e-07"
      ],
      "text/markdown": [
       "5.89462752192205e-07"
      ],
      "text/plain": [
       "[1] 5.894628e-07"
      ]
     },
     "metadata": {},
     "output_type": "display_data"
    }
   ],
   "source": [
    "# the hms library will be helpful here\n",
    "z1 <- 0.05\n",
    "z2 <- 0.15\n",
    "\n",
    "t1 <- as_hms(\"15:00:00\")\n",
    "t2 <- as_hms(\"18:00:00\")\n",
    "\n",
    "dt <- t1-t2\n",
    "dt\n",
    "\n",
    "kappa <- (1/(2*omega_d))*((z2-z1)^2)/(as.numeric(dt)^2)\n",
    "kappa"
   ]
  },
  {
   "cell_type": "markdown",
   "metadata": {},
   "source": [
    "Q6. Briefly compare the temperature regimes of mineral and organic soils."
   ]
  },
  {
   "cell_type": "code",
   "execution_count": null,
   "metadata": {},
   "outputs": [],
   "source": [
    "# Enter answer here then convert to markdown"
   ]
  },
  {
   "cell_type": "code",
   "execution_count": null,
   "metadata": {},
   "outputs": [],
   "source": []
  }
 ],
 "metadata": {
  "kernelspec": {
   "display_name": "R",
   "language": "R",
   "name": "ir"
  },
  "language_info": {
   "codemirror_mode": "r",
   "file_extension": ".r",
   "mimetype": "text/x-r-source",
   "name": "R",
   "pygments_lexer": "r",
   "version": "3.6.2"
  }
 },
 "nbformat": 4,
 "nbformat_minor": 4
}
